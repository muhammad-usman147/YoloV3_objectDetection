{
  "nbformat": 4,
  "nbformat_minor": 0,
  "metadata": {
    "colab": {
      "name": "YOLO_testing(only).ipynb",
      "provenance": [],
      "collapsed_sections": []
    },
    "kernelspec": {
      "display_name": "Python 3",
      "name": "python3"
    }
  },
  "cells": [
    {
      "cell_type": "code",
      "metadata": {
        "colab": {
          "base_uri": "https://localhost:8080/"
        },
        "id": "WN0Ul21og2yh",
        "outputId": "a7598e59-b5f3-4bc0-99a6-bac47e691634"
      },
      "source": [
        "!wget https://pjreddie.com/media/files/yolov3.weights"
      ],
      "execution_count": 1,
      "outputs": [
        {
          "output_type": "stream",
          "text": [
            "--2020-11-20 14:11:31--  https://pjreddie.com/media/files/yolov3.weights\n",
            "Resolving pjreddie.com (pjreddie.com)... 128.208.4.108\n",
            "Connecting to pjreddie.com (pjreddie.com)|128.208.4.108|:443... connected.\n",
            "HTTP request sent, awaiting response... 200 OK\n",
            "Length: 248007048 (237M) [application/octet-stream]\n",
            "Saving to: ‘yolov3.weights’\n",
            "\n",
            "yolov3.weights      100%[===================>] 236.52M  1.18MB/s    in 3m 33s  \n",
            "\n",
            "2020-11-20 14:15:05 (1.11 MB/s) - ‘yolov3.weights’ saved [248007048/248007048]\n",
            "\n"
          ],
          "name": "stdout"
        }
      ]
    },
    {
      "cell_type": "code",
      "metadata": {
        "colab": {
          "background_save": true,
          "base_uri": "https://localhost:8080/",
          "height": 285
        },
        "id": "E-oeMljog813",
        "outputId": "f5d637cc-1141-42f8-ccd7-2bbc8992d30c"
      },
      "source": [
        "import cv2 as cv\n",
        "import numpy as np\n",
        " \n",
        "cap = cv.VideoCapture('videoplayback.mp4')\n",
        "whT = 320\n",
        "confThreshold =0.5\n",
        "nmsThreshold= 0.2\n",
        " \n",
        "#### LOAD MODEL\n",
        "## Coco Names\n",
        "classesFile = \"coco.names\"\n",
        "classNames = []\n",
        "with open(classesFile, 'rt') as f:\n",
        "    classNames = f.read().rstrip('\\n').split('\\n')\n",
        "print(classNames)\n",
        "## Model Files\n",
        "modelConfiguration = \"/content/yolov3-320.cfg\"\n",
        "modelWeights = \"/content/yolov3.weights\"\n",
        "net = cv.dnn.readNetFromDarknet(modelConfiguration, modelWeights)\n",
        "net.setPreferableBackend(cv.dnn.DNN_BACKEND_OPENCV)\n",
        "net.setPreferableTarget(cv.dnn.DNN_TARGET_CPU)\n",
        " \n",
        "def findObjects(outputs,img):\n",
        "    hT, wT, cT = img.shape\n",
        "    bbox = []\n",
        "    classIds = []\n",
        "    confs = []\n",
        "    for output in outputs:\n",
        "        for det in output:\n",
        "            scores = det[5:]\n",
        "            classId = np.argmax(scores)\n",
        "            confidence = scores[classId]\n",
        "            if confidence > confThreshold:\n",
        "                w,h = int(det[2]*wT) , int(det[3]*hT)\n",
        "                x,y = int((det[0]*wT)-w/2) , int((det[1]*hT)-h/2)\n",
        "                bbox.append([x,y,w,h])\n",
        "                classIds.append(classId)\n",
        "                confs.append(float(confidence))\n",
        " \n",
        "    indices = cv.dnn.NMSBoxes(bbox, confs, confThreshold, nmsThreshold)\n",
        " \n",
        "    for i in indices:\n",
        "        i = i[0]\n",
        "        box = bbox[i]\n",
        "        x, y, w, h = box[0], box[1], box[2], box[3]\n",
        "        # print(x,y,w,h)\n",
        "        cv.rectangle(img, (x, y), (x+w,y+h), (255, 0 , 255), 2)\n",
        "        cv.putText(img,f'{classNames[classIds[i]].upper()} {int(confs[i]*100)}%',\n",
        "                  (x, y-10), cv.FONT_HERSHEY_SIMPLEX, 0.6, (255, 0, 255), 2)\n",
        " \n",
        " \n",
        "while True:\n",
        "    #success, img = cap.read()\n",
        "    img = cv2.read(\"\")\n",
        "    blob = cv.dnn.blobFromImage(img, 1 / 255, (whT, whT), [0, 0, 0], 1, crop=False)\n",
        "    net.setInput(blob)\n",
        "    layersNames = net.getLayerNames()\n",
        "    outputNames = [(layersNames[i[0] - 1]) for i in net.getUnconnectedOutLayers()]\n",
        "    outputs = net.forward(outputNames)\n",
        "    findObjects(outputs,img)\n",
        " \n",
        "    cv.imshow('Image', img)\n",
        "    cv.imwrite('output',img)\n",
        "    break"
      ],
      "execution_count": null,
      "outputs": [
        {
          "output_type": "stream",
          "text": [
            "['person', 'bicycle', 'car', 'motorbike', 'aeroplane', 'bus', 'train', 'truck', 'boat', 'traffic light', 'fire hydrant', 'stop sign', 'parking meter', 'bench', 'bird', 'cat', 'dog', 'horse', 'sheep', 'cow', 'elephant', 'bear', 'zebra', 'giraffe', 'backpack', 'umbrella', 'handbag', 'tie', 'suitcase', 'frisbee', 'skis', 'snowboard', 'sports ball', 'kite', 'baseball bat', 'baseball glove', 'skateboard', 'surfboard', 'tennis racket', 'bottle', 'wine glass', 'cup', 'fork', 'knife', 'spoon', 'bowl', 'banana', 'apple', 'sandwich', 'orange', 'broccoli', 'carrot', 'hot dog', 'pizza', 'donut', 'cake', 'chair', 'sofa', 'pottedplant', 'bed', 'diningtable', 'toilet', 'tvmonitor', 'laptop', 'mouse', 'remote', 'keyboard', 'cell phone', 'microwave', 'oven', 'toaster', 'sink', 'refrigerator', 'book', 'clock', 'vase', 'scissors', 'teddy bear', 'hair drier', 'toothbrush']\n"
          ],
          "name": "stdout"
        },
        {
          "output_type": "error",
          "ename": "error",
          "evalue": "ignored",
          "traceback": [
            "\u001b[0;31m---------------------------------------------------------------------------\u001b[0m",
            "\u001b[0;31merror\u001b[0m                                     Traceback (most recent call last)",
            "\u001b[0;32m<ipython-input-5-29181257cf99>\u001b[0m in \u001b[0;36m<module>\u001b[0;34m()\u001b[0m\n\u001b[1;32m     17\u001b[0m \u001b[0mmodelConfiguration\u001b[0m \u001b[0;34m=\u001b[0m \u001b[0;34m\"/content/yolov3-320.cfg\"\u001b[0m\u001b[0;34m\u001b[0m\u001b[0;34m\u001b[0m\u001b[0m\n\u001b[1;32m     18\u001b[0m \u001b[0mmodelWeights\u001b[0m \u001b[0;34m=\u001b[0m \u001b[0;34m\"/content/yolov3.weights\"\u001b[0m\u001b[0;34m\u001b[0m\u001b[0;34m\u001b[0m\u001b[0m\n\u001b[0;32m---> 19\u001b[0;31m \u001b[0mnet\u001b[0m \u001b[0;34m=\u001b[0m \u001b[0mcv\u001b[0m\u001b[0;34m.\u001b[0m\u001b[0mdnn\u001b[0m\u001b[0;34m.\u001b[0m\u001b[0mreadNetFromDarknet\u001b[0m\u001b[0;34m(\u001b[0m\u001b[0mmodelConfiguration\u001b[0m\u001b[0;34m,\u001b[0m \u001b[0mmodelWeights\u001b[0m\u001b[0;34m)\u001b[0m\u001b[0;34m\u001b[0m\u001b[0;34m\u001b[0m\u001b[0m\n\u001b[0m\u001b[1;32m     20\u001b[0m \u001b[0mnet\u001b[0m\u001b[0;34m.\u001b[0m\u001b[0msetPreferableBackend\u001b[0m\u001b[0;34m(\u001b[0m\u001b[0mcv\u001b[0m\u001b[0;34m.\u001b[0m\u001b[0mdnn\u001b[0m\u001b[0;34m.\u001b[0m\u001b[0mDNN_BACKEND_OPENCV\u001b[0m\u001b[0;34m)\u001b[0m\u001b[0;34m\u001b[0m\u001b[0;34m\u001b[0m\u001b[0m\n\u001b[1;32m     21\u001b[0m \u001b[0mnet\u001b[0m\u001b[0;34m.\u001b[0m\u001b[0msetPreferableTarget\u001b[0m\u001b[0;34m(\u001b[0m\u001b[0mcv\u001b[0m\u001b[0;34m.\u001b[0m\u001b[0mdnn\u001b[0m\u001b[0;34m.\u001b[0m\u001b[0mDNN_TARGET_CPU\u001b[0m\u001b[0;34m)\u001b[0m\u001b[0;34m\u001b[0m\u001b[0;34m\u001b[0m\u001b[0m\n",
            "\u001b[0;31merror\u001b[0m: OpenCV(4.1.2) /io/opencv/modules/dnn/src/darknet/darknet_io.cpp:509: error: (-215:Assertion failed) separator_index < line.size() in function 'ReadDarknetFromCfgStream'\n"
          ]
        }
      ]
    },
    {
      "cell_type": "code",
      "metadata": {
        "id": "3NrJccAJo2ol"
      },
      "source": [
        ""
      ],
      "execution_count": null,
      "outputs": []
    }
  ]
}